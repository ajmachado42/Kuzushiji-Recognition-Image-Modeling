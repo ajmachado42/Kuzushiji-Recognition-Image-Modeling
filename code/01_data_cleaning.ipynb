{
 "cells": [
  {
   "cell_type": "markdown",
   "id": "2d107f4a-fe28-4a35-a38e-146632771b22",
   "metadata": {
    "tags": []
   },
   "source": [
    "# Imports"
   ]
  },
  {
   "cell_type": "code",
   "execution_count": 1,
   "id": "9dc3c06b-0847-4d83-8f57-b57b779de892",
   "metadata": {},
   "outputs": [],
   "source": [
    "import pandas as pd\n",
    "import numpy as np\n",
    "import matplotlib.pyplot as plt\n",
    "import seaborn as sns"
   ]
  },
  {
   "cell_type": "code",
   "execution_count": 2,
   "id": "517fc3ef-9d0c-4f57-8c6f-7279372f7322",
   "metadata": {},
   "outputs": [],
   "source": [
    "train_raw = pd.read_csv('../data/train.csv')\n",
    "train_df = train_raw.copy()\n",
    "uni_raw = pd.read_csv('../data/unicode_translation.csv')\n",
    "uni_df = uni_raw.copy()"
   ]
  },
  {
   "cell_type": "code",
   "execution_count": 3,
   "id": "da179b42-21bd-45c4-a894-2f677016b5ac",
   "metadata": {},
   "outputs": [
    {
     "name": "stdout",
     "output_type": "stream",
     "text": [
      "(3605, 2)\n"
     ]
    },
    {
     "data": {
      "text/html": [
       "<div>\n",
       "<style scoped>\n",
       "    .dataframe tbody tr th:only-of-type {\n",
       "        vertical-align: middle;\n",
       "    }\n",
       "\n",
       "    .dataframe tbody tr th {\n",
       "        vertical-align: top;\n",
       "    }\n",
       "\n",
       "    .dataframe thead th {\n",
       "        text-align: right;\n",
       "    }\n",
       "</style>\n",
       "<table border=\"1\" class=\"dataframe\">\n",
       "  <thead>\n",
       "    <tr style=\"text-align: right;\">\n",
       "      <th></th>\n",
       "      <th>image_id</th>\n",
       "      <th>labels</th>\n",
       "    </tr>\n",
       "  </thead>\n",
       "  <tbody>\n",
       "    <tr>\n",
       "      <th>0</th>\n",
       "      <td>100241706_00004_2</td>\n",
       "      <td>U+306F 1231 3465 133 53 U+304C 275 1652 84 69 ...</td>\n",
       "    </tr>\n",
       "    <tr>\n",
       "      <th>1</th>\n",
       "      <td>100241706_00005_1</td>\n",
       "      <td>U+306F 1087 2018 103 65 U+304B 1456 1832 40 73...</td>\n",
       "    </tr>\n",
       "    <tr>\n",
       "      <th>2</th>\n",
       "      <td>100241706_00005_2</td>\n",
       "      <td>U+306F 572 1376 125 57 U+306E 1551 2080 69 68 ...</td>\n",
       "    </tr>\n",
       "    <tr>\n",
       "      <th>3</th>\n",
       "      <td>100241706_00006_1</td>\n",
       "      <td>U+3082 1455 3009 65 44 U+516B 1654 1528 141 75...</td>\n",
       "    </tr>\n",
       "    <tr>\n",
       "      <th>4</th>\n",
       "      <td>100241706_00007_2</td>\n",
       "      <td>U+309D 1201 2949 27 33 U+309D 1196 1539 27 36 ...</td>\n",
       "    </tr>\n",
       "  </tbody>\n",
       "</table>\n",
       "</div>"
      ],
      "text/plain": [
       "            image_id                                             labels\n",
       "0  100241706_00004_2  U+306F 1231 3465 133 53 U+304C 275 1652 84 69 ...\n",
       "1  100241706_00005_1  U+306F 1087 2018 103 65 U+304B 1456 1832 40 73...\n",
       "2  100241706_00005_2  U+306F 572 1376 125 57 U+306E 1551 2080 69 68 ...\n",
       "3  100241706_00006_1  U+3082 1455 3009 65 44 U+516B 1654 1528 141 75...\n",
       "4  100241706_00007_2  U+309D 1201 2949 27 33 U+309D 1196 1539 27 36 ..."
      ]
     },
     "execution_count": 3,
     "metadata": {},
     "output_type": "execute_result"
    }
   ],
   "source": [
    "print(train_df.shape)\n",
    "train_df.head()"
   ]
  },
  {
   "cell_type": "code",
   "execution_count": 4,
   "id": "641d3892-def7-4b80-a96d-dad314d4a1fe",
   "metadata": {},
   "outputs": [
    {
     "name": "stdout",
     "output_type": "stream",
     "text": [
      "(4781, 2)\n"
     ]
    },
    {
     "data": {
      "text/html": [
       "<div>\n",
       "<style scoped>\n",
       "    .dataframe tbody tr th:only-of-type {\n",
       "        vertical-align: middle;\n",
       "    }\n",
       "\n",
       "    .dataframe tbody tr th {\n",
       "        vertical-align: top;\n",
       "    }\n",
       "\n",
       "    .dataframe thead th {\n",
       "        text-align: right;\n",
       "    }\n",
       "</style>\n",
       "<table border=\"1\" class=\"dataframe\">\n",
       "  <thead>\n",
       "    <tr style=\"text-align: right;\">\n",
       "      <th></th>\n",
       "      <th>Unicode</th>\n",
       "      <th>char</th>\n",
       "    </tr>\n",
       "  </thead>\n",
       "  <tbody>\n",
       "    <tr>\n",
       "      <th>0</th>\n",
       "      <td>U+0031</td>\n",
       "      <td>1</td>\n",
       "    </tr>\n",
       "    <tr>\n",
       "      <th>1</th>\n",
       "      <td>U+0032</td>\n",
       "      <td>2</td>\n",
       "    </tr>\n",
       "    <tr>\n",
       "      <th>2</th>\n",
       "      <td>U+0034</td>\n",
       "      <td>4</td>\n",
       "    </tr>\n",
       "    <tr>\n",
       "      <th>3</th>\n",
       "      <td>U+0036</td>\n",
       "      <td>6</td>\n",
       "    </tr>\n",
       "    <tr>\n",
       "      <th>4</th>\n",
       "      <td>U+0039</td>\n",
       "      <td>9</td>\n",
       "    </tr>\n",
       "  </tbody>\n",
       "</table>\n",
       "</div>"
      ],
      "text/plain": [
       "  Unicode char\n",
       "0  U+0031    1\n",
       "1  U+0032    2\n",
       "2  U+0034    4\n",
       "3  U+0036    6\n",
       "4  U+0039    9"
      ]
     },
     "execution_count": 4,
     "metadata": {},
     "output_type": "execute_result"
    }
   ],
   "source": [
    "print(uni_df.shape)\n",
    "uni_df.head()"
   ]
  },
  {
   "cell_type": "code",
   "execution_count": 5,
   "id": "ef1ffa74-6d99-4abd-98a6-adcc85ee9d01",
   "metadata": {},
   "outputs": [
    {
     "data": {
      "text/plain": [
       "100241706_00004_2    1\n",
       "200021925-00004_2    1\n",
       "200022050-00001      1\n",
       "200022050-00002_1    1\n",
       "200022050-00002_2    1\n",
       "                    ..\n",
       "200014740-00040_2    1\n",
       "200014740-00041_1    1\n",
       "200014740-00041_2    1\n",
       "200014740-00042_1    1\n",
       "umgy012-042          1\n",
       "Name: image_id, Length: 3605, dtype: int64"
      ]
     },
     "execution_count": 5,
     "metadata": {},
     "output_type": "execute_result"
    }
   ],
   "source": [
    "train_df['image_id'].value_counts(ascending = False)"
   ]
  },
  {
   "cell_type": "code",
   "execution_count": 6,
   "id": "77b34177-aaa2-4745-831c-ffa0faa977a0",
   "metadata": {},
   "outputs": [
    {
     "data": {
      "text/plain": [
       "image_id    0\n",
       "labels      0\n",
       "dtype: int64"
      ]
     },
     "execution_count": 6,
     "metadata": {},
     "output_type": "execute_result"
    }
   ],
   "source": [
    "train_df.isnull().sum()"
   ]
  },
  {
   "cell_type": "code",
   "execution_count": 7,
   "id": "3d100b50-22a5-4500-8a76-0f27bc73fa16",
   "metadata": {},
   "outputs": [
    {
     "data": {
      "text/plain": [
       "Unicode  char\n",
       "U+0031   1       1\n",
       "U+805F   聟       1\n",
       "U+805A   聚       1\n",
       "U+8058   聘       1\n",
       "U+8056   聖       1\n",
       "                ..\n",
       "U+6271   扱       1\n",
       "U+626E   扮       1\n",
       "U+6268   扨       1\n",
       "U+6263   扣       1\n",
       "U+FF2F   Ｏ       1\n",
       "Length: 4781, dtype: int64"
      ]
     },
     "execution_count": 7,
     "metadata": {},
     "output_type": "execute_result"
    }
   ],
   "source": [
    "uni_df.value_counts(ascending = False)"
   ]
  },
  {
   "cell_type": "code",
   "execution_count": 8,
   "id": "4d574ed3-4697-43c2-b79d-c6afa9a13cce",
   "metadata": {},
   "outputs": [
    {
     "data": {
      "text/plain": [
       "Unicode    0\n",
       "char       0\n",
       "dtype: int64"
      ]
     },
     "execution_count": 8,
     "metadata": {},
     "output_type": "execute_result"
    }
   ],
   "source": [
    "uni_df.isnull().sum()"
   ]
  },
  {
   "cell_type": "markdown",
   "id": "acebbf0f-ad2f-497d-8b96-66098e036fe0",
   "metadata": {
    "tags": []
   },
   "source": [
    "# Transform train_df"
   ]
  },
  {
   "cell_type": "code",
   "execution_count": 9,
   "id": "a2546e34-a93b-4b02-9c83-dd7e6a10194f",
   "metadata": {},
   "outputs": [
    {
     "data": {
      "text/plain": [
       "'U+306F 1231 3465 133 53 U+304C 275 1652 84 69 U+3044 1495 1218 143 69 U+3051 220 3331 53 91 U+306B 911 1452 61 92 U+306B 927 3445 71 92 U+306E 904 2879 95 92 U+5DE5 1168 1396 187 95 U+3053 289 3166 69 97 U+4E09 897 3034 121 107 U+306E 547 1912 141 108 U+3084 1489 2675 151 109 U+3068 1561 2979 55 116 U+5DF1 1513 2500 127 117 U+3082 1213 1523 72 119 U+3055 1219 3266 95 124 U+306E 259 2230 68 125 U+306E 1184 2423 169 125 U+4E16 849 2236 163 127 U+7D30 1144 1212 200 128 U+305D 316 3287 57 133 U+4EBA 217 2044 183 135 U+3051 277 2974 112 137 U+308C 201 3423 181 137 U+3060 243 2830 159 143 U+5F37 1479 2034 163 145 U+306E 1497 1567 123 152 U+305F 1164 952 145 153 U+3066 552 1199 97 155 U+4FF3 537 2095 176 155 U+6839 203 1439 184 156 U+304B 1188 2606 156 157 U+8AE7 549 2328 156 159 U+308C 1495 2784 168 159 U+5B50 891 1255 100 164 U+3092 584 2546 117 164 U+53CA 849 1588 151 164 U+8005 1192 2198 133 169 U+305A 889 1763 103 171 U+907F 513 945 181 171 U+6B63 539 1439 136 172 U+6587 192 2382 216 173 U+3075 1512 3371 147 176 U+6642 1465 1338 168 179 U+601D 1492 3175 159 180 U+306A 1191 2775 135 181 U+3081 593 3313 151 184 U+6D6E 868 1982 155 184 U+3092 873 2400 145 192 U+6C17 1504 1754 145 200 U+8077 208 1770 197 204 U+8001 1167 1687 152 208 U+6B66 1184 1942 171 208 U+697D 568 2762 133 209 U+3082 247 1159 116 212 U+76F2 253 2578 119 215 U+82E5 1465 951 172 216 U+81EA 1852 1736 104 219 U+3069 220 928 139 229 U+98A8 541 1619 147 236 U+306B 1521 2239 83 237 U+88CF 851 2608 169 237 U+7573 905 3189 103 244 U+606F 876 937 123 244 U+5E8F 1816 2096 152 296 U+3057 629 2985 27 300 U+3057 1243 2942 39 313'"
      ]
     },
     "execution_count": 9,
     "metadata": {},
     "output_type": "execute_result"
    }
   ],
   "source": [
    "train_df.iloc[0,1]"
   ]
  },
  {
   "cell_type": "code",
   "execution_count": 10,
   "id": "1b0921e2-bb56-4252-8cef-6d9e061472ab",
   "metadata": {},
   "outputs": [],
   "source": [
    "# split labels to unicode level; list\n",
    "train_df['labels'] = train_df['labels'].apply(lambda x: x.split())\n",
    "\n",
    "#reset index to save original index values\n",
    "train_df.reset_index(inplace = True)\n",
    "\n",
    "# explode list to separate each label value\n",
    "# https://stackoverflow.com/questions/12680754/split-explode-pandas-dataframe-string-entry-to-separate-rows\n",
    "train_df = train_df.explode('labels').reset_index(drop = True)"
   ]
  },
  {
   "cell_type": "code",
   "execution_count": 11,
   "id": "114309b5-40c7-49d6-97bc-c67a84e8e0a6",
   "metadata": {},
   "outputs": [
    {
     "data": {
      "text/html": [
       "<div>\n",
       "<style scoped>\n",
       "    .dataframe tbody tr th:only-of-type {\n",
       "        vertical-align: middle;\n",
       "    }\n",
       "\n",
       "    .dataframe tbody tr th {\n",
       "        vertical-align: top;\n",
       "    }\n",
       "\n",
       "    .dataframe thead th {\n",
       "        text-align: right;\n",
       "    }\n",
       "</style>\n",
       "<table border=\"1\" class=\"dataframe\">\n",
       "  <thead>\n",
       "    <tr style=\"text-align: right;\">\n",
       "      <th></th>\n",
       "      <th>index</th>\n",
       "      <th>image_id</th>\n",
       "      <th>labels</th>\n",
       "    </tr>\n",
       "  </thead>\n",
       "  <tbody>\n",
       "    <tr>\n",
       "      <th>0</th>\n",
       "      <td>0</td>\n",
       "      <td>100241706_00004_2</td>\n",
       "      <td>U+306F</td>\n",
       "    </tr>\n",
       "    <tr>\n",
       "      <th>1</th>\n",
       "      <td>0</td>\n",
       "      <td>100241706_00004_2</td>\n",
       "      <td>1231</td>\n",
       "    </tr>\n",
       "    <tr>\n",
       "      <th>2</th>\n",
       "      <td>0</td>\n",
       "      <td>100241706_00004_2</td>\n",
       "      <td>3465</td>\n",
       "    </tr>\n",
       "    <tr>\n",
       "      <th>3</th>\n",
       "      <td>0</td>\n",
       "      <td>100241706_00004_2</td>\n",
       "      <td>133</td>\n",
       "    </tr>\n",
       "    <tr>\n",
       "      <th>4</th>\n",
       "      <td>0</td>\n",
       "      <td>100241706_00004_2</td>\n",
       "      <td>53</td>\n",
       "    </tr>\n",
       "  </tbody>\n",
       "</table>\n",
       "</div>"
      ],
      "text/plain": [
       "   index           image_id  labels\n",
       "0      0  100241706_00004_2  U+306F\n",
       "1      0  100241706_00004_2    1231\n",
       "2      0  100241706_00004_2    3465\n",
       "3      0  100241706_00004_2     133\n",
       "4      0  100241706_00004_2      53"
      ]
     },
     "execution_count": 11,
     "metadata": {},
     "output_type": "execute_result"
    }
   ],
   "source": [
    "train_df.head()"
   ]
  },
  {
   "cell_type": "code",
   "execution_count": 12,
   "id": "616bfc96-338e-4014-aa28-c7aa74197113",
   "metadata": {},
   "outputs": [],
   "source": [
    "# create type column with exploded label element's type\n",
    "\n",
    "train_df_len = len(train_df)//5\n",
    "\n",
    "type_values = ['Uni', 'X', 'Y', 'W', 'H']*train_df_len\n",
    "\n",
    "train_df['type'] = type_values"
   ]
  },
  {
   "cell_type": "code",
   "execution_count": 13,
   "id": "5be2d68e-fca9-4cd2-9228-ccec5d10596c",
   "metadata": {},
   "outputs": [
    {
     "data": {
      "text/html": [
       "<div>\n",
       "<style scoped>\n",
       "    .dataframe tbody tr th:only-of-type {\n",
       "        vertical-align: middle;\n",
       "    }\n",
       "\n",
       "    .dataframe tbody tr th {\n",
       "        vertical-align: top;\n",
       "    }\n",
       "\n",
       "    .dataframe thead th {\n",
       "        text-align: right;\n",
       "    }\n",
       "</style>\n",
       "<table border=\"1\" class=\"dataframe\">\n",
       "  <thead>\n",
       "    <tr style=\"text-align: right;\">\n",
       "      <th></th>\n",
       "      <th>index</th>\n",
       "      <th>image_id</th>\n",
       "      <th>labels</th>\n",
       "      <th>type</th>\n",
       "    </tr>\n",
       "  </thead>\n",
       "  <tbody>\n",
       "    <tr>\n",
       "      <th>0</th>\n",
       "      <td>0</td>\n",
       "      <td>100241706_00004_2</td>\n",
       "      <td>U+306F</td>\n",
       "      <td>Uni</td>\n",
       "    </tr>\n",
       "    <tr>\n",
       "      <th>1</th>\n",
       "      <td>0</td>\n",
       "      <td>100241706_00004_2</td>\n",
       "      <td>1231</td>\n",
       "      <td>X</td>\n",
       "    </tr>\n",
       "    <tr>\n",
       "      <th>2</th>\n",
       "      <td>0</td>\n",
       "      <td>100241706_00004_2</td>\n",
       "      <td>3465</td>\n",
       "      <td>Y</td>\n",
       "    </tr>\n",
       "    <tr>\n",
       "      <th>3</th>\n",
       "      <td>0</td>\n",
       "      <td>100241706_00004_2</td>\n",
       "      <td>133</td>\n",
       "      <td>W</td>\n",
       "    </tr>\n",
       "    <tr>\n",
       "      <th>4</th>\n",
       "      <td>0</td>\n",
       "      <td>100241706_00004_2</td>\n",
       "      <td>53</td>\n",
       "      <td>H</td>\n",
       "    </tr>\n",
       "  </tbody>\n",
       "</table>\n",
       "</div>"
      ],
      "text/plain": [
       "   index           image_id  labels type\n",
       "0      0  100241706_00004_2  U+306F  Uni\n",
       "1      0  100241706_00004_2    1231    X\n",
       "2      0  100241706_00004_2    3465    Y\n",
       "3      0  100241706_00004_2     133    W\n",
       "4      0  100241706_00004_2      53    H"
      ]
     },
     "execution_count": 13,
     "metadata": {},
     "output_type": "execute_result"
    }
   ],
   "source": [
    "train_df.head()"
   ]
  },
  {
   "cell_type": "code",
   "execution_count": 14,
   "id": "31fc9261-8add-43dc-bd98-1f0af0d2d17f",
   "metadata": {},
   "outputs": [
    {
     "data": {
      "text/html": [
       "<div>\n",
       "<style scoped>\n",
       "    .dataframe tbody tr th:only-of-type {\n",
       "        vertical-align: middle;\n",
       "    }\n",
       "\n",
       "    .dataframe tbody tr th {\n",
       "        vertical-align: top;\n",
       "    }\n",
       "\n",
       "    .dataframe thead th {\n",
       "        text-align: right;\n",
       "    }\n",
       "</style>\n",
       "<table border=\"1\" class=\"dataframe\">\n",
       "  <thead>\n",
       "    <tr style=\"text-align: right;\">\n",
       "      <th></th>\n",
       "      <th>index</th>\n",
       "      <th>image_id</th>\n",
       "      <th>labels</th>\n",
       "      <th>type</th>\n",
       "    </tr>\n",
       "  </thead>\n",
       "  <tbody>\n",
       "    <tr>\n",
       "      <th>3417315</th>\n",
       "      <td>3604</td>\n",
       "      <td>umgy012-042</td>\n",
       "      <td>U+3031</td>\n",
       "      <td>Uni</td>\n",
       "    </tr>\n",
       "    <tr>\n",
       "      <th>3417316</th>\n",
       "      <td>3604</td>\n",
       "      <td>umgy012-042</td>\n",
       "      <td>1279</td>\n",
       "      <td>X</td>\n",
       "    </tr>\n",
       "    <tr>\n",
       "      <th>3417317</th>\n",
       "      <td>3604</td>\n",
       "      <td>umgy012-042</td>\n",
       "      <td>1444</td>\n",
       "      <td>Y</td>\n",
       "    </tr>\n",
       "    <tr>\n",
       "      <th>3417318</th>\n",
       "      <td>3604</td>\n",
       "      <td>umgy012-042</td>\n",
       "      <td>53</td>\n",
       "      <td>W</td>\n",
       "    </tr>\n",
       "    <tr>\n",
       "      <th>3417319</th>\n",
       "      <td>3604</td>\n",
       "      <td>umgy012-042</td>\n",
       "      <td>190</td>\n",
       "      <td>H</td>\n",
       "    </tr>\n",
       "  </tbody>\n",
       "</table>\n",
       "</div>"
      ],
      "text/plain": [
       "         index     image_id  labels type\n",
       "3417315   3604  umgy012-042  U+3031  Uni\n",
       "3417316   3604  umgy012-042    1279    X\n",
       "3417317   3604  umgy012-042    1444    Y\n",
       "3417318   3604  umgy012-042      53    W\n",
       "3417319   3604  umgy012-042     190    H"
      ]
     },
     "execution_count": 14,
     "metadata": {},
     "output_type": "execute_result"
    }
   ],
   "source": [
    "train_df.tail()"
   ]
  },
  {
   "cell_type": "code",
   "execution_count": 15,
   "id": "38fcc355-6228-403b-ada3-48c27b487889",
   "metadata": {},
   "outputs": [
    {
     "data": {
      "text/plain": [
       "\"\\n# reset values in index so that value corresponds with unique label_id\\ntrain_df.rename(columns = {'index': 'label_id'}, inplace = True)\\n\\n# loop\\ni = 0\\nfor j in range(len(train_df)):\\n    if j % 5 == 0:\\n        i += 1\\n        train_df.iloc[j,0] = i\\n    else:\\n        train_df.iloc[j,0] = i\\n\""
      ]
     },
     "execution_count": 15,
     "metadata": {},
     "output_type": "execute_result"
    }
   ],
   "source": [
    "'''\n",
    "# reset values in index so that value corresponds with unique label_id\n",
    "train_df.rename(columns = {'index': 'label_id'}, inplace = True)\n",
    "\n",
    "# loop\n",
    "i = 0\n",
    "for j in range(len(train_df)):\n",
    "    if j % 5 == 0:\n",
    "        i += 1\n",
    "        train_df.iloc[j,0] = i\n",
    "    else:\n",
    "        train_df.iloc[j,0] = i\n",
    "'''"
   ]
  },
  {
   "cell_type": "code",
   "execution_count": 16,
   "id": "93f95947-c121-462f-9e43-803346191ea0",
   "metadata": {},
   "outputs": [],
   "source": [
    "# train_df.head()"
   ]
  },
  {
   "cell_type": "code",
   "execution_count": 17,
   "id": "88064c2f-e6ea-4e6b-82bd-9b016df14395",
   "metadata": {},
   "outputs": [
    {
     "data": {
      "text/plain": [
       "\"\\ntrain_df2 = pd.pivot_table(data = train_df, \\n                          values = 'labels', \\n                          index = ['label_id', 'image_id'], \\n                          columns = 'type', \\n                          aggfunc=lambda x: ' '.join(x)).reset_index()\\n\""
      ]
     },
     "execution_count": 17,
     "metadata": {},
     "output_type": "execute_result"
    }
   ],
   "source": [
    "# pivot df so there is one row per label_id (datapoint) and types have their own columns\n",
    "'''\n",
    "train_df2 = pd.pivot_table(data = train_df, \n",
    "                          values = 'labels', \n",
    "                          index = ['label_id', 'image_id'], \n",
    "                          columns = 'type', \n",
    "                          aggfunc=lambda x: ' '.join(x)).reset_index()\n",
    "'''"
   ]
  },
  {
   "cell_type": "code",
   "execution_count": 18,
   "id": "a2177852-d3f9-4149-b89e-e34a927c8598",
   "metadata": {},
   "outputs": [],
   "source": [
    "# train_df2.to_csv('../data/train_clean.csv', index = False)"
   ]
  },
  {
   "cell_type": "code",
   "execution_count": null,
   "id": "67311084-ba53-4746-81b4-600492bb1680",
   "metadata": {},
   "outputs": [],
   "source": []
  }
 ],
 "metadata": {
  "kernelspec": {
   "display_name": "Python 3 (ipykernel)",
   "language": "python",
   "name": "python3"
  },
  "language_info": {
   "codemirror_mode": {
    "name": "ipython",
    "version": 3
   },
   "file_extension": ".py",
   "mimetype": "text/x-python",
   "name": "python",
   "nbconvert_exporter": "python",
   "pygments_lexer": "ipython3",
   "version": "3.9.12"
  }
 },
 "nbformat": 4,
 "nbformat_minor": 5
}
