{
 "cells": [
  {
   "cell_type": "code",
   "execution_count": 1,
   "id": "9dc3c06b-0847-4d83-8f57-b57b779de892",
   "metadata": {},
   "outputs": [],
   "source": [
    "import pandas as pd\n",
    "import numpy as np\n",
    "import matplotlib.pyplot as plt\n",
    "import seaborn as sns"
   ]
  },
  {
   "cell_type": "code",
   "execution_count": 2,
   "id": "517fc3ef-9d0c-4f57-8c6f-7279372f7322",
   "metadata": {},
   "outputs": [],
   "source": [
    "train_raw = pd.read_csv('../data/train.csv')\n",
    "train_df = train_raw.copy()\n",
    "uni_raw = pd.read_csv('../data/unicode_translation.csv')\n",
    "uni_df = uni_raw.copy()"
   ]
  },
  {
   "cell_type": "code",
   "execution_count": 3,
   "id": "da179b42-21bd-45c4-a894-2f677016b5ac",
   "metadata": {},
   "outputs": [
    {
     "data": {
      "text/html": [
       "<div>\n",
       "<style scoped>\n",
       "    .dataframe tbody tr th:only-of-type {\n",
       "        vertical-align: middle;\n",
       "    }\n",
       "\n",
       "    .dataframe tbody tr th {\n",
       "        vertical-align: top;\n",
       "    }\n",
       "\n",
       "    .dataframe thead th {\n",
       "        text-align: right;\n",
       "    }\n",
       "</style>\n",
       "<table border=\"1\" class=\"dataframe\">\n",
       "  <thead>\n",
       "    <tr style=\"text-align: right;\">\n",
       "      <th></th>\n",
       "      <th>image_id</th>\n",
       "      <th>labels</th>\n",
       "    </tr>\n",
       "  </thead>\n",
       "  <tbody>\n",
       "    <tr>\n",
       "      <th>0</th>\n",
       "      <td>100241706_00004_2</td>\n",
       "      <td>U+306F 1231 3465 133 53 U+304C 275 1652 84 69 ...</td>\n",
       "    </tr>\n",
       "    <tr>\n",
       "      <th>1</th>\n",
       "      <td>100241706_00005_1</td>\n",
       "      <td>U+306F 1087 2018 103 65 U+304B 1456 1832 40 73...</td>\n",
       "    </tr>\n",
       "    <tr>\n",
       "      <th>2</th>\n",
       "      <td>100241706_00005_2</td>\n",
       "      <td>U+306F 572 1376 125 57 U+306E 1551 2080 69 68 ...</td>\n",
       "    </tr>\n",
       "    <tr>\n",
       "      <th>3</th>\n",
       "      <td>100241706_00006_1</td>\n",
       "      <td>U+3082 1455 3009 65 44 U+516B 1654 1528 141 75...</td>\n",
       "    </tr>\n",
       "    <tr>\n",
       "      <th>4</th>\n",
       "      <td>100241706_00007_2</td>\n",
       "      <td>U+309D 1201 2949 27 33 U+309D 1196 1539 27 36 ...</td>\n",
       "    </tr>\n",
       "  </tbody>\n",
       "</table>\n",
       "</div>"
      ],
      "text/plain": [
       "            image_id                                             labels\n",
       "0  100241706_00004_2  U+306F 1231 3465 133 53 U+304C 275 1652 84 69 ...\n",
       "1  100241706_00005_1  U+306F 1087 2018 103 65 U+304B 1456 1832 40 73...\n",
       "2  100241706_00005_2  U+306F 572 1376 125 57 U+306E 1551 2080 69 68 ...\n",
       "3  100241706_00006_1  U+3082 1455 3009 65 44 U+516B 1654 1528 141 75...\n",
       "4  100241706_00007_2  U+309D 1201 2949 27 33 U+309D 1196 1539 27 36 ..."
      ]
     },
     "execution_count": 3,
     "metadata": {},
     "output_type": "execute_result"
    }
   ],
   "source": [
    "train_df.head()"
   ]
  },
  {
   "cell_type": "code",
   "execution_count": 4,
   "id": "641d3892-def7-4b80-a96d-dad314d4a1fe",
   "metadata": {},
   "outputs": [
    {
     "data": {
      "text/html": [
       "<div>\n",
       "<style scoped>\n",
       "    .dataframe tbody tr th:only-of-type {\n",
       "        vertical-align: middle;\n",
       "    }\n",
       "\n",
       "    .dataframe tbody tr th {\n",
       "        vertical-align: top;\n",
       "    }\n",
       "\n",
       "    .dataframe thead th {\n",
       "        text-align: right;\n",
       "    }\n",
       "</style>\n",
       "<table border=\"1\" class=\"dataframe\">\n",
       "  <thead>\n",
       "    <tr style=\"text-align: right;\">\n",
       "      <th></th>\n",
       "      <th>Unicode</th>\n",
       "      <th>char</th>\n",
       "    </tr>\n",
       "  </thead>\n",
       "  <tbody>\n",
       "    <tr>\n",
       "      <th>0</th>\n",
       "      <td>U+0031</td>\n",
       "      <td>1</td>\n",
       "    </tr>\n",
       "    <tr>\n",
       "      <th>1</th>\n",
       "      <td>U+0032</td>\n",
       "      <td>2</td>\n",
       "    </tr>\n",
       "    <tr>\n",
       "      <th>2</th>\n",
       "      <td>U+0034</td>\n",
       "      <td>4</td>\n",
       "    </tr>\n",
       "    <tr>\n",
       "      <th>3</th>\n",
       "      <td>U+0036</td>\n",
       "      <td>6</td>\n",
       "    </tr>\n",
       "    <tr>\n",
       "      <th>4</th>\n",
       "      <td>U+0039</td>\n",
       "      <td>9</td>\n",
       "    </tr>\n",
       "  </tbody>\n",
       "</table>\n",
       "</div>"
      ],
      "text/plain": [
       "  Unicode char\n",
       "0  U+0031    1\n",
       "1  U+0032    2\n",
       "2  U+0034    4\n",
       "3  U+0036    6\n",
       "4  U+0039    9"
      ]
     },
     "execution_count": 4,
     "metadata": {},
     "output_type": "execute_result"
    }
   ],
   "source": [
    "uni_df.head()"
   ]
  },
  {
   "cell_type": "markdown",
   "id": "acebbf0f-ad2f-497d-8b96-66098e036fe0",
   "metadata": {},
   "source": [
    "## Transform"
   ]
  },
  {
   "cell_type": "code",
   "execution_count": 5,
   "id": "a2546e34-a93b-4b02-9c83-dd7e6a10194f",
   "metadata": {},
   "outputs": [
    {
     "data": {
      "text/plain": [
       "'U+306F 1231 3465 133 53 U+304C 275 1652 84 69 U+3044 1495 1218 143 69 U+3051 220 3331 53 91 U+306B 911 1452 61 92 U+306B 927 3445 71 92 U+306E 904 2879 95 92 U+5DE5 1168 1396 187 95 U+3053 289 3166 69 97 U+4E09 897 3034 121 107 U+306E 547 1912 141 108 U+3084 1489 2675 151 109 U+3068 1561 2979 55 116 U+5DF1 1513 2500 127 117 U+3082 1213 1523 72 119 U+3055 1219 3266 95 124 U+306E 259 2230 68 125 U+306E 1184 2423 169 125 U+4E16 849 2236 163 127 U+7D30 1144 1212 200 128 U+305D 316 3287 57 133 U+4EBA 217 2044 183 135 U+3051 277 2974 112 137 U+308C 201 3423 181 137 U+3060 243 2830 159 143 U+5F37 1479 2034 163 145 U+306E 1497 1567 123 152 U+305F 1164 952 145 153 U+3066 552 1199 97 155 U+4FF3 537 2095 176 155 U+6839 203 1439 184 156 U+304B 1188 2606 156 157 U+8AE7 549 2328 156 159 U+308C 1495 2784 168 159 U+5B50 891 1255 100 164 U+3092 584 2546 117 164 U+53CA 849 1588 151 164 U+8005 1192 2198 133 169 U+305A 889 1763 103 171 U+907F 513 945 181 171 U+6B63 539 1439 136 172 U+6587 192 2382 216 173 U+3075 1512 3371 147 176 U+6642 1465 1338 168 179 U+601D 1492 3175 159 180 U+306A 1191 2775 135 181 U+3081 593 3313 151 184 U+6D6E 868 1982 155 184 U+3092 873 2400 145 192 U+6C17 1504 1754 145 200 U+8077 208 1770 197 204 U+8001 1167 1687 152 208 U+6B66 1184 1942 171 208 U+697D 568 2762 133 209 U+3082 247 1159 116 212 U+76F2 253 2578 119 215 U+82E5 1465 951 172 216 U+81EA 1852 1736 104 219 U+3069 220 928 139 229 U+98A8 541 1619 147 236 U+306B 1521 2239 83 237 U+88CF 851 2608 169 237 U+7573 905 3189 103 244 U+606F 876 937 123 244 U+5E8F 1816 2096 152 296 U+3057 629 2985 27 300 U+3057 1243 2942 39 313'"
      ]
     },
     "execution_count": 5,
     "metadata": {},
     "output_type": "execute_result"
    }
   ],
   "source": [
    "train_df.iloc[0,1]"
   ]
  },
  {
   "cell_type": "code",
   "execution_count": 6,
   "id": "ae45609d-72ba-4b95-ada7-928f33a21014",
   "metadata": {},
   "outputs": [],
   "source": [
    "train_df['labels'] = train_df['labels'].apply(lambda x: x.split())"
   ]
  },
  {
   "cell_type": "code",
   "execution_count": 7,
   "id": "6f077734-ec93-40d3-af54-75117ce2bffe",
   "metadata": {},
   "outputs": [
    {
     "data": {
      "text/plain": [
       "100241706_00004_2    1\n",
       "200021925-00004_2    1\n",
       "200022050-00001      1\n",
       "200022050-00002_1    1\n",
       "200022050-00002_2    1\n",
       "                    ..\n",
       "200014740-00040_2    1\n",
       "200014740-00041_1    1\n",
       "200014740-00041_2    1\n",
       "200014740-00042_1    1\n",
       "umgy012-042          1\n",
       "Name: image_id, Length: 3605, dtype: int64"
      ]
     },
     "execution_count": 7,
     "metadata": {},
     "output_type": "execute_result"
    }
   ],
   "source": [
    "train_df['image_id'].value_counts(ascending = False)"
   ]
  },
  {
   "cell_type": "code",
   "execution_count": 8,
   "id": "8b60734b-4216-4ce3-aa99-e323e625dfb1",
   "metadata": {},
   "outputs": [],
   "source": [
    "# https://stackoverflow.com/questions/12680754/split-explode-pandas-dataframe-string-entry-to-separate-rows\n",
    "train_df = train_df.explode('labels').reset_index(drop = True)"
   ]
  },
  {
   "cell_type": "code",
   "execution_count": 9,
   "id": "f94a57fe-3599-4293-abc4-8523d2570e4c",
   "metadata": {},
   "outputs": [
    {
     "data": {
      "text/html": [
       "<div>\n",
       "<style scoped>\n",
       "    .dataframe tbody tr th:only-of-type {\n",
       "        vertical-align: middle;\n",
       "    }\n",
       "\n",
       "    .dataframe tbody tr th {\n",
       "        vertical-align: top;\n",
       "    }\n",
       "\n",
       "    .dataframe thead th {\n",
       "        text-align: right;\n",
       "    }\n",
       "</style>\n",
       "<table border=\"1\" class=\"dataframe\">\n",
       "  <thead>\n",
       "    <tr style=\"text-align: right;\">\n",
       "      <th></th>\n",
       "      <th>image_id</th>\n",
       "      <th>labels</th>\n",
       "    </tr>\n",
       "  </thead>\n",
       "  <tbody>\n",
       "    <tr>\n",
       "      <th>0</th>\n",
       "      <td>100241706_00004_2</td>\n",
       "      <td>U+306F</td>\n",
       "    </tr>\n",
       "    <tr>\n",
       "      <th>1</th>\n",
       "      <td>100241706_00004_2</td>\n",
       "      <td>1231</td>\n",
       "    </tr>\n",
       "    <tr>\n",
       "      <th>2</th>\n",
       "      <td>100241706_00004_2</td>\n",
       "      <td>3465</td>\n",
       "    </tr>\n",
       "    <tr>\n",
       "      <th>3</th>\n",
       "      <td>100241706_00004_2</td>\n",
       "      <td>133</td>\n",
       "    </tr>\n",
       "    <tr>\n",
       "      <th>4</th>\n",
       "      <td>100241706_00004_2</td>\n",
       "      <td>53</td>\n",
       "    </tr>\n",
       "  </tbody>\n",
       "</table>\n",
       "</div>"
      ],
      "text/plain": [
       "            image_id  labels\n",
       "0  100241706_00004_2  U+306F\n",
       "1  100241706_00004_2    1231\n",
       "2  100241706_00004_2    3465\n",
       "3  100241706_00004_2     133\n",
       "4  100241706_00004_2      53"
      ]
     },
     "execution_count": 9,
     "metadata": {},
     "output_type": "execute_result"
    }
   ],
   "source": [
    "train_df.head()"
   ]
  },
  {
   "cell_type": "code",
   "execution_count": 10,
   "id": "591c45ae-30aa-4d47-bc8f-a2c4e33464e9",
   "metadata": {},
   "outputs": [],
   "source": [
    "train_df_len = len(train_df)//5"
   ]
  },
  {
   "cell_type": "code",
   "execution_count": 11,
   "id": "0ca30c43-539b-4d09-826c-2e315e08ba5a",
   "metadata": {},
   "outputs": [],
   "source": [
    "type_values = ['Uni', 'X', 'Y', 'W', 'H']*train_df_len"
   ]
  },
  {
   "cell_type": "code",
   "execution_count": 12,
   "id": "3173dfa9-9dc3-485a-87b8-764822eb0d8b",
   "metadata": {},
   "outputs": [],
   "source": [
    "train_df['type'] = type_values"
   ]
  },
  {
   "cell_type": "code",
   "execution_count": 13,
   "id": "900c7c55-800a-4af7-a1dc-d0a7627772b0",
   "metadata": {},
   "outputs": [
    {
     "data": {
      "text/html": [
       "<div>\n",
       "<style scoped>\n",
       "    .dataframe tbody tr th:only-of-type {\n",
       "        vertical-align: middle;\n",
       "    }\n",
       "\n",
       "    .dataframe tbody tr th {\n",
       "        vertical-align: top;\n",
       "    }\n",
       "\n",
       "    .dataframe thead th {\n",
       "        text-align: right;\n",
       "    }\n",
       "</style>\n",
       "<table border=\"1\" class=\"dataframe\">\n",
       "  <thead>\n",
       "    <tr style=\"text-align: right;\">\n",
       "      <th></th>\n",
       "      <th>image_id</th>\n",
       "      <th>labels</th>\n",
       "      <th>type</th>\n",
       "    </tr>\n",
       "  </thead>\n",
       "  <tbody>\n",
       "    <tr>\n",
       "      <th>count</th>\n",
       "      <td>3417320</td>\n",
       "      <td>3417320</td>\n",
       "      <td>3417320</td>\n",
       "    </tr>\n",
       "    <tr>\n",
       "      <th>unique</th>\n",
       "      <td>3605</td>\n",
       "      <td>8293</td>\n",
       "      <td>5</td>\n",
       "    </tr>\n",
       "    <tr>\n",
       "      <th>top</th>\n",
       "      <td>200014685-00010_1</td>\n",
       "      <td>U+306B</td>\n",
       "      <td>Uni</td>\n",
       "    </tr>\n",
       "    <tr>\n",
       "      <th>freq</th>\n",
       "      <td>3070</td>\n",
       "      <td>24685</td>\n",
       "      <td>683464</td>\n",
       "    </tr>\n",
       "  </tbody>\n",
       "</table>\n",
       "</div>"
      ],
      "text/plain": [
       "                 image_id   labels     type\n",
       "count             3417320  3417320  3417320\n",
       "unique               3605     8293        5\n",
       "top     200014685-00010_1   U+306B      Uni\n",
       "freq                 3070    24685   683464"
      ]
     },
     "execution_count": 13,
     "metadata": {},
     "output_type": "execute_result"
    }
   ],
   "source": [
    "train_df.describe()"
   ]
  },
  {
   "cell_type": "code",
   "execution_count": 14,
   "id": "ef1ffa74-6d99-4abd-98a6-adcc85ee9d01",
   "metadata": {},
   "outputs": [
    {
     "data": {
      "text/plain": [
       "image_id           labels  type\n",
       "brsk001-022        U+3068  Uni     44\n",
       "200022050-00012_1  U+306B  Uni     41\n",
       "brsk005-003        U+3044  Uni     38\n",
       "brsk005-041        U+306B  Uni     37\n",
       "brsk004-021        U+3068  Uni     37\n",
       "                                   ..\n",
       "200015779_00045_1  2257    Y        1\n",
       "                   2247    Y        1\n",
       "                   2244    Y        1\n",
       "                   2238    Y        1\n",
       "umgy012-042        U+9063  Uni      1\n",
       "Length: 2079130, dtype: int64"
      ]
     },
     "execution_count": 14,
     "metadata": {},
     "output_type": "execute_result"
    }
   ],
   "source": [
    "train_df.value_counts(ascending = False)"
   ]
  },
  {
   "cell_type": "code",
   "execution_count": 15,
   "id": "77b34177-aaa2-4745-831c-ffa0faa977a0",
   "metadata": {},
   "outputs": [
    {
     "data": {
      "text/plain": [
       "image_id    0\n",
       "labels      0\n",
       "type        0\n",
       "dtype: int64"
      ]
     },
     "execution_count": 15,
     "metadata": {},
     "output_type": "execute_result"
    }
   ],
   "source": [
    "train_df.isnull().sum()"
   ]
  },
  {
   "cell_type": "code",
   "execution_count": 28,
   "id": "5be2d68e-fca9-4cd2-9228-ccec5d10596c",
   "metadata": {},
   "outputs": [
    {
     "data": {
      "text/html": [
       "<div>\n",
       "<style scoped>\n",
       "    .dataframe tbody tr th:only-of-type {\n",
       "        vertical-align: middle;\n",
       "    }\n",
       "\n",
       "    .dataframe tbody tr th {\n",
       "        vertical-align: top;\n",
       "    }\n",
       "\n",
       "    .dataframe thead th {\n",
       "        text-align: right;\n",
       "    }\n",
       "</style>\n",
       "<table border=\"1\" class=\"dataframe\">\n",
       "  <thead>\n",
       "    <tr style=\"text-align: right;\">\n",
       "      <th></th>\n",
       "      <th>image_id</th>\n",
       "      <th>labels</th>\n",
       "      <th>type</th>\n",
       "    </tr>\n",
       "  </thead>\n",
       "  <tbody>\n",
       "    <tr>\n",
       "      <th>0</th>\n",
       "      <td>100241706_00004_2</td>\n",
       "      <td>U+306F</td>\n",
       "      <td>Uni</td>\n",
       "    </tr>\n",
       "    <tr>\n",
       "      <th>1</th>\n",
       "      <td>100241706_00004_2</td>\n",
       "      <td>1231</td>\n",
       "      <td>X</td>\n",
       "    </tr>\n",
       "    <tr>\n",
       "      <th>2</th>\n",
       "      <td>100241706_00004_2</td>\n",
       "      <td>3465</td>\n",
       "      <td>Y</td>\n",
       "    </tr>\n",
       "    <tr>\n",
       "      <th>3</th>\n",
       "      <td>100241706_00004_2</td>\n",
       "      <td>133</td>\n",
       "      <td>W</td>\n",
       "    </tr>\n",
       "    <tr>\n",
       "      <th>4</th>\n",
       "      <td>100241706_00004_2</td>\n",
       "      <td>53</td>\n",
       "      <td>H</td>\n",
       "    </tr>\n",
       "  </tbody>\n",
       "</table>\n",
       "</div>"
      ],
      "text/plain": [
       "            image_id  labels type\n",
       "0  100241706_00004_2  U+306F  Uni\n",
       "1  100241706_00004_2    1231    X\n",
       "2  100241706_00004_2    3465    Y\n",
       "3  100241706_00004_2     133    W\n",
       "4  100241706_00004_2      53    H"
      ]
     },
     "execution_count": 28,
     "metadata": {},
     "output_type": "execute_result"
    }
   ],
   "source": [
    "train_df.head()"
   ]
  },
  {
   "cell_type": "code",
   "execution_count": 17,
   "id": "51c57973-aef8-4dc8-8f2c-89b00bf1fb5a",
   "metadata": {},
   "outputs": [],
   "source": [
    "t_df = train_df.reset_index()"
   ]
  },
  {
   "cell_type": "code",
   "execution_count": 18,
   "id": "8b8a0f5b-844c-4251-9a3e-058c9770fccd",
   "metadata": {},
   "outputs": [],
   "source": [
    "# https://stackoverflow.com/questions/71519254/transpose-dataframe-at-certain-number-of-rows\n",
    "t_df = t_df.pivot(['index', 'image_id'], \n",
    "               values = 'labels', \n",
    "               columns = 'type').add_prefix('label_').rename_axis(columns=[None]).reset_index()"
   ]
  },
  {
   "cell_type": "code",
   "execution_count": 19,
   "id": "0574c370-61f8-4d24-84d9-a93eec6ca0d0",
   "metadata": {},
   "outputs": [
    {
     "data": {
      "text/html": [
       "<div>\n",
       "<style scoped>\n",
       "    .dataframe tbody tr th:only-of-type {\n",
       "        vertical-align: middle;\n",
       "    }\n",
       "\n",
       "    .dataframe tbody tr th {\n",
       "        vertical-align: top;\n",
       "    }\n",
       "\n",
       "    .dataframe thead th {\n",
       "        text-align: right;\n",
       "    }\n",
       "</style>\n",
       "<table border=\"1\" class=\"dataframe\">\n",
       "  <thead>\n",
       "    <tr style=\"text-align: right;\">\n",
       "      <th></th>\n",
       "      <th>index</th>\n",
       "      <th>image_id</th>\n",
       "      <th>label_H</th>\n",
       "      <th>label_Uni</th>\n",
       "      <th>label_W</th>\n",
       "      <th>label_X</th>\n",
       "      <th>label_Y</th>\n",
       "    </tr>\n",
       "  </thead>\n",
       "  <tbody>\n",
       "    <tr>\n",
       "      <th>0</th>\n",
       "      <td>0</td>\n",
       "      <td>100241706_00004_2</td>\n",
       "      <td>NaN</td>\n",
       "      <td>U+306F</td>\n",
       "      <td>NaN</td>\n",
       "      <td>NaN</td>\n",
       "      <td>NaN</td>\n",
       "    </tr>\n",
       "    <tr>\n",
       "      <th>1</th>\n",
       "      <td>1</td>\n",
       "      <td>100241706_00004_2</td>\n",
       "      <td>NaN</td>\n",
       "      <td>NaN</td>\n",
       "      <td>NaN</td>\n",
       "      <td>1231</td>\n",
       "      <td>NaN</td>\n",
       "    </tr>\n",
       "    <tr>\n",
       "      <th>2</th>\n",
       "      <td>2</td>\n",
       "      <td>100241706_00004_2</td>\n",
       "      <td>NaN</td>\n",
       "      <td>NaN</td>\n",
       "      <td>NaN</td>\n",
       "      <td>NaN</td>\n",
       "      <td>3465</td>\n",
       "    </tr>\n",
       "    <tr>\n",
       "      <th>3</th>\n",
       "      <td>3</td>\n",
       "      <td>100241706_00004_2</td>\n",
       "      <td>NaN</td>\n",
       "      <td>NaN</td>\n",
       "      <td>133</td>\n",
       "      <td>NaN</td>\n",
       "      <td>NaN</td>\n",
       "    </tr>\n",
       "    <tr>\n",
       "      <th>4</th>\n",
       "      <td>4</td>\n",
       "      <td>100241706_00004_2</td>\n",
       "      <td>53</td>\n",
       "      <td>NaN</td>\n",
       "      <td>NaN</td>\n",
       "      <td>NaN</td>\n",
       "      <td>NaN</td>\n",
       "    </tr>\n",
       "  </tbody>\n",
       "</table>\n",
       "</div>"
      ],
      "text/plain": [
       "   index           image_id label_H label_Uni label_W label_X label_Y\n",
       "0      0  100241706_00004_2     NaN    U+306F     NaN     NaN     NaN\n",
       "1      1  100241706_00004_2     NaN       NaN     NaN    1231     NaN\n",
       "2      2  100241706_00004_2     NaN       NaN     NaN     NaN    3465\n",
       "3      3  100241706_00004_2     NaN       NaN     133     NaN     NaN\n",
       "4      4  100241706_00004_2      53       NaN     NaN     NaN     NaN"
      ]
     },
     "execution_count": 19,
     "metadata": {},
     "output_type": "execute_result"
    }
   ],
   "source": [
    "t_df.head()"
   ]
  },
  {
   "cell_type": "code",
   "execution_count": 29,
   "id": "1322f018-d679-42b1-9bb1-823938a00ac0",
   "metadata": {},
   "outputs": [],
   "source": [
    "t_df.drop(columns = 'index', inplace = True)"
   ]
  },
  {
   "cell_type": "code",
   "execution_count": null,
   "id": "0724d28f-520b-4748-bcf1-97cc78d982f6",
   "metadata": {},
   "outputs": [],
   "source": []
  }
 ],
 "metadata": {
  "kernelspec": {
   "display_name": "Python 3 (ipykernel)",
   "language": "python",
   "name": "python3"
  },
  "language_info": {
   "codemirror_mode": {
    "name": "ipython",
    "version": 3
   },
   "file_extension": ".py",
   "mimetype": "text/x-python",
   "name": "python",
   "nbconvert_exporter": "python",
   "pygments_lexer": "ipython3",
   "version": "3.9.12"
  }
 },
 "nbformat": 4,
 "nbformat_minor": 5
}
